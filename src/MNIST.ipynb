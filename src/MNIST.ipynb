{
 "cells": [
  {
   "cell_type": "code",
   "execution_count": 5,
   "metadata": {},
   "outputs": [],
   "source": [
    "from sklearn import datasets, svm, metrics \n",
    "digits = datasets.fetch_openml('mnist_784')"
   ]
  },
  {
   "cell_type": "code",
   "execution_count": 6,
   "metadata": {},
   "outputs": [],
   "source": [
    "import matplotlib.pyplot as plt\n",
    "import heapq\n",
    "from numpy.linalg import norm \n",
    "\n",
    "\n",
    "from sklearn.neighbors import KNeighborsClassifier\n",
    "from sklearn_algor import split, find_f_1, euclid_dist, classify"
   ]
  },
  {
   "cell_type": "markdown",
   "metadata": {},
   "source": [
    "## My Implementation"
   ]
  },
  {
   "cell_type": "code",
   "execution_count": 7,
   "metadata": {},
   "outputs": [
    {
     "ename": "AttributeError",
     "evalue": "'DataFrame' object has no attribute 'reshape'",
     "output_type": "error",
     "traceback": [
      "\u001b[0;31m---------------------------------------------------------------------------\u001b[0m",
      "\u001b[0;31mAttributeError\u001b[0m                            Traceback (most recent call last)",
      "\u001b[0;32m<ipython-input-7-a00af37c8780>\u001b[0m in \u001b[0;36m<module>\u001b[0;34m\u001b[0m\n\u001b[1;32m      3\u001b[0m \u001b[0msplit_dict\u001b[0m \u001b[0;34m=\u001b[0m \u001b[0msplit\u001b[0m\u001b[0;34m(\u001b[0m\u001b[0mimages_label_list\u001b[0m\u001b[0;34m)\u001b[0m\u001b[0;34m\u001b[0m\u001b[0;34m\u001b[0m\u001b[0m\n\u001b[1;32m      4\u001b[0m \u001b[0mn_samples\u001b[0m \u001b[0;34m=\u001b[0m \u001b[0mlen\u001b[0m\u001b[0;34m(\u001b[0m\u001b[0mdigits\u001b[0m\u001b[0;34m.\u001b[0m\u001b[0mdata\u001b[0m\u001b[0;34m)\u001b[0m\u001b[0;34m\u001b[0m\u001b[0;34m\u001b[0m\u001b[0m\n\u001b[0;32m----> 5\u001b[0;31m \u001b[0mdata\u001b[0m \u001b[0;34m=\u001b[0m \u001b[0mdigits\u001b[0m\u001b[0;34m.\u001b[0m\u001b[0mdata\u001b[0m\u001b[0;34m.\u001b[0m\u001b[0mreshape\u001b[0m\u001b[0;34m(\u001b[0m\u001b[0;34m(\u001b[0m\u001b[0mn_samples\u001b[0m\u001b[0;34m,\u001b[0m \u001b[0;34m-\u001b[0m\u001b[0;36m1\u001b[0m\u001b[0;34m)\u001b[0m\u001b[0;34m)\u001b[0m\u001b[0;34m\u001b[0m\u001b[0;34m\u001b[0m\u001b[0m\n\u001b[0m\u001b[1;32m      6\u001b[0m \u001b[0;34m\u001b[0m\u001b[0m\n\u001b[1;32m      7\u001b[0m \u001b[0;34m\u001b[0m\u001b[0m\n",
      "\u001b[0;32m/opt/anaconda3/lib/python3.8/site-packages/pandas/core/generic.py\u001b[0m in \u001b[0;36m__getattr__\u001b[0;34m(self, name)\u001b[0m\n\u001b[1;32m   5463\u001b[0m             \u001b[0;32mif\u001b[0m \u001b[0mself\u001b[0m\u001b[0;34m.\u001b[0m\u001b[0m_info_axis\u001b[0m\u001b[0;34m.\u001b[0m\u001b[0m_can_hold_identifiers_and_holds_name\u001b[0m\u001b[0;34m(\u001b[0m\u001b[0mname\u001b[0m\u001b[0;34m)\u001b[0m\u001b[0;34m:\u001b[0m\u001b[0;34m\u001b[0m\u001b[0;34m\u001b[0m\u001b[0m\n\u001b[1;32m   5464\u001b[0m                 \u001b[0;32mreturn\u001b[0m \u001b[0mself\u001b[0m\u001b[0;34m[\u001b[0m\u001b[0mname\u001b[0m\u001b[0;34m]\u001b[0m\u001b[0;34m\u001b[0m\u001b[0;34m\u001b[0m\u001b[0m\n\u001b[0;32m-> 5465\u001b[0;31m             \u001b[0;32mreturn\u001b[0m \u001b[0mobject\u001b[0m\u001b[0;34m.\u001b[0m\u001b[0m__getattribute__\u001b[0m\u001b[0;34m(\u001b[0m\u001b[0mself\u001b[0m\u001b[0;34m,\u001b[0m \u001b[0mname\u001b[0m\u001b[0;34m)\u001b[0m\u001b[0;34m\u001b[0m\u001b[0;34m\u001b[0m\u001b[0m\n\u001b[0m\u001b[1;32m   5466\u001b[0m \u001b[0;34m\u001b[0m\u001b[0m\n\u001b[1;32m   5467\u001b[0m     \u001b[0;32mdef\u001b[0m \u001b[0m__setattr__\u001b[0m\u001b[0;34m(\u001b[0m\u001b[0mself\u001b[0m\u001b[0;34m,\u001b[0m \u001b[0mname\u001b[0m\u001b[0;34m:\u001b[0m \u001b[0mstr\u001b[0m\u001b[0;34m,\u001b[0m \u001b[0mvalue\u001b[0m\u001b[0;34m)\u001b[0m \u001b[0;34m->\u001b[0m \u001b[0;32mNone\u001b[0m\u001b[0;34m:\u001b[0m\u001b[0;34m\u001b[0m\u001b[0;34m\u001b[0m\u001b[0m\n",
      "\u001b[0;31mAttributeError\u001b[0m: 'DataFrame' object has no attribute 'reshape'"
     ]
    }
   ],
   "source": [
    "#list of tuples, where first tuple is image and second tuple is classifaction\n",
    "images_label_list = list(zip(digits.data, digits.target))\n",
    "split_dict = split(images_label_list)\n",
    "n_samples = len(digits.data)\n",
    "data = digits.data.reshape((n_samples, -1))\n",
    "\n",
    "\n",
    "#work on a small sample\n",
    "k = 500\n",
    "j = 1000\n",
    "\n",
    "predictions = knn(images_label_list[:500], list(digits.data[k:j]), 3)\n",
    "my_f1_dict = find_f_1(predictions, digits.target[k:j])"
   ]
  },
  {
   "cell_type": "code",
   "execution_count": null,
   "metadata": {},
   "outputs": [],
   "source": [
    "for number in list(my_f1_dict.values()):\n",
    "    print('{:.2f} & '.format(number), end = '')"
   ]
  },
  {
   "cell_type": "markdown",
   "metadata": {},
   "source": [
    "## SciKitLearn"
   ]
  },
  {
   "cell_type": "code",
   "execution_count": null,
   "metadata": {},
   "outputs": [],
   "source": [
    "#define Model\n",
    "model = KNeighborsClassifier(n_neighbors=3)\n",
    "model.fit(split(data)['train'], split(digits.target)['train'])\n",
    "#model.fit(data[:int(n_samples * .8)], digits.target[:int(n_samples * .8)])\n",
    "y_hat = model.predict(data[int(n_samples * .8):int(n_samples * .95)])"
   ]
  },
  {
   "cell_type": "code",
   "execution_count": null,
   "metadata": {},
   "outputs": [],
   "source": [
    "y = digits.target[int(n_samples * .8):]\n",
    "f_1_dict = find_f_1(y_hat,y)"
   ]
  },
  {
   "cell_type": "code",
   "execution_count": null,
   "metadata": {},
   "outputs": [],
   "source": [
    "print(f_1_dict)\n",
    "print('min is ', min(list(f_1_dict.values())))\n",
    "print('max is ', max(list(f_1_dict.values())))\n",
    "# print(type(images_label_list[3][0]))\n",
    "# print(type(digits.data))"
   ]
  },
  {
   "cell_type": "code",
   "execution_count": null,
   "metadata": {},
   "outputs": [],
   "source": [
    "for number in list(f_1_dict.values()):\n",
    "    print('{:.2f} & '.format(number), end = '')"
   ]
  },
  {
   "cell_type": "markdown",
   "metadata": {},
   "source": [
    "## Modules\n"
   ]
  },
  {
   "cell_type": "code",
   "execution_count": null,
   "metadata": {},
   "outputs": [],
   "source": [
    "def knn(train, pred, k):\n",
    "    \"\"\"\n",
    "    Uses the train data to make predictions on the test data\n",
    "    :param train: zipped list of tupules, 1st element picture array, second element classification eg \"1\"\n",
    "    :param pred: just the picture array, we want to predict the classification for this array/picture\n",
    "    :param k: number of near neighbors to consider\n",
    "    \"\"\"\n",
    "    inf = 10 ** 6  # ~inf\n",
    "    prediction_list = []\n",
    "    \n",
    "    for i in range(len(pred)):\n",
    "        nn_heap = []\n",
    "        #initialize a new heap for each data point\n",
    "        for _ in range(k):# use negatives to turn the implemented min heap into a max heap\n",
    "            heapq.heappush(nn_heap, (-1 * inf, '1'))  # initialize the set of NN to five 1's at infinite distance\n",
    "        \n",
    "        for j in range(len(train)):\n",
    "            dist = euclid_dist(pred[i], train[j][0])\n",
    "            if dist < -1 * nn_heap[0][0]:\n",
    "                heapq.heappushpop(nn_heap, (-1 * dist, train[j][1]))  # add distance and classification\n",
    "            assert len(nn_heap) == k\n",
    "        prediction_list.append(classify(nn_heap))\n",
    "    return prediction_list"
   ]
  },
  {
   "cell_type": "code",
   "execution_count": null,
   "metadata": {},
   "outputs": [],
   "source": [
    "def classify(nn_tup_list):\n",
    "    \"\"\"\n",
    "\n",
    "    :param nn_tup_list: a list of tuple of neighbors and their distance from the data point\n",
    "    :return:\n",
    "    \"\"\"\n",
    "    count_list = [0] * 10\n",
    "    neighbors = list(zip(*nn_tup_list))[1]\n",
    "    distances = list(zip(*nn_tup_list))[0]\n",
    "    for i in range(10):  # count the instances of each prediction\n",
    "        for neighbor in neighbors:\n",
    "            if neighbor == str(i):\n",
    "                count_list[i] += 1\n",
    "    maximum = max(count_list)  # most common prediction, (min to account for negative values in the max heap)\n",
    "    if maximum == 1:\n",
    "        return neighbors[distances.index(max(distances))]\n",
    "    return str(count_list.index(maximum))"
   ]
  }
 ],
 "metadata": {
  "kernelspec": {
   "display_name": "Python 3",
   "language": "python",
   "name": "python3"
  }
 },
 "nbformat": 4,
 "nbformat_minor": 2
}
